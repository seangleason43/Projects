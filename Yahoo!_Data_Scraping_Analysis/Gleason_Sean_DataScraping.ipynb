{
 "cells": [
  {
   "cell_type": "code",
   "execution_count": 1,
   "metadata": {},
   "outputs": [
    {
     "name": "stdout",
     "output_type": "stream",
     "text": [
      "200\n"
     ]
    }
   ],
   "source": [
    "#Import necessary libraries\n",
    "from bs4 import BeautifulSoup\n",
    "import requests\n",
    "\n",
    "#Define user agent, accessiblity/url\n",
    "headers = {'User-Agent': 'Mozilla/5.0 (Windows NT 10.0; Win64; x64) AppleWebKit/537.36 (KHTML, like Gecko) Chrome/119.0.0.0 Safari/537.36'}\n",
    "url = 'https://finance.yahoo.com/quote/CL%3DF?p=CL%3DF'\n",
    "\n",
    "#get webpage\n",
    "r = requests.get(url)\n",
    "\n",
    "#Display webpage\n",
    "print(r.status_code)"
   ]
  },
  {
   "cell_type": "code",
   "execution_count": 2,
   "metadata": {},
   "outputs": [
    {
     "name": "stdout",
     "output_type": "stream",
     "text": [
      "Crude Oil Jan 24 (CL=F) Stock Price, News, Quote & History - Yahoo Finance\n"
     ]
    }
   ],
   "source": [
    "#Ensure we are getting the info desired\n",
    "soup = BeautifulSoup(r.text, 'html.parser')\n",
    "\n",
    "#Display info\n",
    "print(soup.title.text)"
   ]
  },
  {
   "cell_type": "code",
   "execution_count": 87,
   "metadata": {},
   "outputs": [
    {
     "name": "stdout",
     "output_type": "stream",
     "text": [
      "Data has been written to market_data.csv \n",
      "117 number of lines have been written\n"
     ]
    }
   ],
   "source": [
    "#Import neccessary global libraries\n",
    "import csv\n",
    "\n",
    "#Resuable function to get stock info(price, change, change %, yesterday close price, open price, todays range, volume available) when given stock symbol\n",
    "def getData(symbol):\n",
    "    #Import necessary local libraries\n",
    "    from bs4 import BeautifulSoup\n",
    "    import requests\n",
    "\n",
    "    #Define user agent, accessiblity/url\n",
    "    headers = {'User-Agent': 'Mozilla/5.0 (Windows NT 10.0; Win64; x64) AppleWebKit/537.36 (KHTML, like Gecko) Chrome/119.0.0.0 Safari/537.36'}\n",
    "    url = f'https://finance.yahoo.com/quote/{symbol}'\n",
    "\n",
    "    #get webpage\n",
    "    r = requests.get(url, headers = headers)\n",
    "\n",
    "    #Ensure we are getting the info desired\n",
    "    soup = BeautifulSoup(r.text, 'html.parser')\n",
    "\n",
    "    #Read website contents into respective vars (stock price, price change, change percent, opening price, bid price, market last price, todays price range, volume of stocks available, market stock asking price )\n",
    "    stock_name = soup.find('h1', {'class': 'D(ib) Fz(18px)'}).text,\n",
    "    stock_price = soup.find('div', {'class': 'D(ib) Mend(20px)'}).find_all('fin-streamer')[0].text,\n",
    "    market_change = soup.find('div', {'class': 'D(ib) Mend(20px)'}).find_all('fin-streamer')[1].text,\n",
    "    market_change_percent = soup.find('div', {'class': 'D(ib) Mend(20px)'}).find_all('fin-streamer')[2].text.strip('()'),\n",
    "    previous_market_close = soup.find('div', {'id': 'quote-summary'}).find_all('td')[1].text,\n",
    "    market_open = soup.find('div', {'id': 'quote-summary'}).find_all('td')[3].text,\n",
    "    market_todays_range = soup.find('div', {'id': 'quote-summary'}).find_all('td')[9].text,\n",
    "    market_share_volume = soup.find('div', {'id': 'quote-summary'}).find_all('td')[13].text,\n",
    "\n",
    "    #Return the stock info\n",
    "    return stock_name[0], stock_price[0], market_change[0], market_change_percent[0], previous_market_close[0], market_open[0], market_todays_range[0], market_share_volume[0]\n",
    "\n",
    "#Specify file name\n",
    "csv_file_name = \"market_data.csv\"\n",
    "\n",
    "#Open CSV file in write mode\n",
    "with open(csv_file_name, mode = 'w', newline = '') as csv_file:\n",
    "    #Create a CSV writer object\n",
    "    csv_writer = csv.writer(csv_file)\n",
    "\n",
    "    #Write the header row\n",
    "    csv_writer.writerow(['Stock Name','Market Price', 'Market Change', 'Market Change Percent', 'Previous Close', 'Market Open', 'Market Range', 'Market Share Volume Available'])\n",
    "\n",
    "    #Desired stocks\n",
    "    myStocks = ['META?p=META', 'GME?p=GME', 'HOOD?p=HOOD', 'PLTR?p=PLTR', 'NOK?p=NOK', 'TTWO?p=TTWO', 'GTLB?p=GTLB', 'SPOT?p=SPOT', 'SBUX?p=SBUX', 'CGC?p=CGC', 'ERIC?p=ERIC', 'EYPT?p=EYPT', 'MULN?p=MULN', 'SPCE?p=SPCE', 'AMC?p=AMC', 'SSNT?p=SSNT', 'TLRY?p=TLRY', 'NIO?p=NIO', 'AMRN?p=AMRN', 'ACB?p=ACB', 'NRSN?p=NRSN', 'CERE?p=CERE', 'FIVN?p=FIVN', 'BETS?p=BETS', 'WEED.TO?p=WEED.TO', 'MSFT?p=MSFT', 'ATHE?p=ATHE', 'TSLA?p=TSLA', 'MARA?p=MARA', 'F?p=F', 'PFE?p=PFE', 'LU?p=LU', 'PLUG?p=PLUG', 'RIOT?p=RIOT', 'SOFI?p=SOFI', 'NVDA?p=NVDA', 'AMZN?p=AMZN', 'INTC?p=INTC', 'BAC?p=BAC', 'AMD?p=AMD', 'T?p=T', 'CCL?p=CCL', 'BCS?p=BCS', 'AAPL?p=AAPL', 'GOOGL?p=GOOGL', 'RIVN?p=RIVN', 'GM?p=GM', 'VALE?p=VALE', 'PATH?p=PATH', 'GRAB?p=GRAB', 'KGC?p=KGC', 'NU?p=NU', 'NCLH?p=NCLH', 'DNA?p=DNA', 'CMCSA?p=CMCSA', 'VZ?p=VZ', 'CVNA?p=CVNA', 'XOM?p=XOM', 'KEY?p=KEY', 'ALK?p=ALK', 'SNAP?p=SNAP', 'BABA?p=BABA', 'COIN?p=COIN', 'GOOG?p=GOOG', 'WBD?p=WBD', 'C?p=C', 'OPEN?p=OPEN', 'GOLD?p=GOLD', 'LCID?p=LCID', 'BBD?p=BBD', 'LYFT?p=LYFT', 'CSCO?p=CSCO', 'PBR?p=PBR', 'HEP?p=HEP', 'HBAN?p=HBAN', 'KVUE?p=KVUE', 'DKNG?p=DKNG', 'CSX?p=CSX', 'PCG?p=PCG', 'MPW?p=MPW', 'CNHI?p=CNHI', 'RUN?p=RUN', 'M?p=M', 'UPST?p=UPST', 'FHN?p=FHN', 'RIG?p=RIG', 'NEM?p=NEM', 'IMGN?p=IMGN', 'AGNC?p=AGNC', 'HPE?p=HPE', 'PINS?p=PINS', 'PYPL?p=PYPL', 'PARA?p=PARA', 'WFC?p=WFC', 'RLX?p=RLX', 'MRVL?p=MRVL', 'GGB?p=GGB', 'SIRI?p=SIRI', 'BTG?p=BTG', 'CPNG?p=CPNG', 'LUV?p=LUV', 'PTON?p=PTON', 'CHWY?p=CHWY', 'FCX?p=FCX', 'CVX?p=CVX', 'SWN?p=SWN', 'KMI?p=KMI', 'U?p=U', 'VTRS?p=VTRS', 'SCHW?p=SCHW', 'KO?p=KO', 'LYG?p=LYG', 'AMCR?p=AMCR', 'TSM?p=TSM', 'XPEV?p=XPEV', 'QS?p=QS']\n",
    "    count = 1\n",
    "\n",
    "    #Write each stock to csv\n",
    "    for item in myStocks:\n",
    "        csv_writer.writerow(getData(item))\n",
    "        count += 1\n",
    "\n",
    "#This can take up to 5 minutes to fully process and output the data to the file \n",
    "print(f\"Data has been written to {csv_file_name} \\n{count} number of lines have been written\")"
   ]
  }
 ],
 "metadata": {
  "kernelspec": {
   "display_name": "Python 3",
   "language": "python",
   "name": "python3"
  },
  "language_info": {
   "codemirror_mode": {
    "name": "ipython",
    "version": 3
   },
   "file_extension": ".py",
   "mimetype": "text/x-python",
   "name": "python",
   "nbconvert_exporter": "python",
   "pygments_lexer": "ipython3",
   "version": "3.11.6"
  }
 },
 "nbformat": 4,
 "nbformat_minor": 2
}
